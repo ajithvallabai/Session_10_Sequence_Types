{
 "cells": [
  {
   "cell_type": "code",
   "execution_count": 1,
   "id": "8fd55f03",
   "metadata": {},
   "outputs": [],
   "source": [
    "import test_session10"
   ]
  },
  {
   "cell_type": "markdown",
   "id": "4c321a06",
   "metadata": {},
   "source": [
    "### Polygon class - 6 tests"
   ]
  },
  {
   "cell_type": "code",
   "execution_count": 2,
   "id": "e0ab6c0d",
   "metadata": {},
   "outputs": [
    {
     "name": "stdout",
     "output_type": "stream",
     "text": [
      "Polygon with (15) edges and (400) circum radius\n",
      "Polygon representation is correct\n"
     ]
    }
   ],
   "source": [
    "test_session10.test_polygonrepresentation()"
   ]
  },
  {
   "cell_type": "code",
   "execution_count": 3,
   "id": "facb27fe",
   "metadata": {},
   "outputs": [
    {
     "name": "stdout",
     "output_type": "stream",
     "text": [
      "polyA > polyB True\n",
      "gt() is implemented in correct manner\n"
     ]
    }
   ],
   "source": [
    "test_session10.test_polygongreaterthan()"
   ]
  },
  {
   "cell_type": "code",
   "execution_count": 4,
   "id": "dc8c83d6",
   "metadata": {},
   "outputs": [
    {
     "name": "stdout",
     "output_type": "stream",
     "text": [
      "polyA == polyB True\n",
      "eq() is implemented in correct manner\n"
     ]
    }
   ],
   "source": [
    "test_session10.test_polygonequalto()"
   ]
  },
  {
   "cell_type": "code",
   "execution_count": 5,
   "id": "26d29f48",
   "metadata": {},
   "outputs": [
    {
     "name": "stdout",
     "output_type": "stream",
     "text": [
      "Polygon properties are correct\n"
     ]
    }
   ],
   "source": [
    "test_session10.test_polygoncalculation()"
   ]
  },
  {
   "cell_type": "code",
   "execution_count": 6,
   "id": "18191f02",
   "metadata": {},
   "outputs": [
    {
     "name": "stdout",
     "output_type": "stream",
     "text": [
      "Value error is raise for values less than 3\n"
     ]
    }
   ],
   "source": [
    "test_session10.test_polygonsmall()"
   ]
  },
  {
   "cell_type": "code",
   "execution_count": 7,
   "id": "3771d42b",
   "metadata": {},
   "outputs": [
    {
     "name": "stdout",
     "output_type": "stream",
     "text": [
      "Type error is raised for wrong inputs\n"
     ]
    }
   ],
   "source": [
    "test_session10.test_polygoninput()"
   ]
  },
  {
   "cell_type": "markdown",
   "id": "0b43f100",
   "metadata": {},
   "source": [
    "### Custom Polygon Sequence - 8 tests"
   ]
  },
  {
   "cell_type": "code",
   "execution_count": 8,
   "id": "1280ee67",
   "metadata": {},
   "outputs": [
    {
     "name": "stdout",
     "output_type": "stream",
     "text": [
      "Polygon with (5) edges and (30) circum radius Polygon with (5) edges and (30) circum radius\n",
      "Apt output is got for (10,30) input\n"
     ]
    }
   ],
   "source": [
    "test_session10.test_sequencepolygoniterator()"
   ]
  },
  {
   "cell_type": "code",
   "execution_count": 9,
   "id": "d044254a",
   "metadata": {},
   "outputs": [
    {
     "name": "stdout",
     "output_type": "stream",
     "text": [
      "poly_seq_A[4:10:2]   ->  [Polygon with (4) edges and (30) circum radius, Polygon with (6) edges and (30) circum radius, Polygon with (8) edges and (30) circum radius]\n",
      "Slicing is working properly\n"
     ]
    }
   ],
   "source": [
    "test_session10.test_sequencepolygonslice()"
   ]
  },
  {
   "cell_type": "code",
   "execution_count": 10,
   "id": "b547bf8b",
   "metadata": {},
   "outputs": [
    {
     "name": "stdout",
     "output_type": "stream",
     "text": [
      "list(result) ->  ['Polygon not possible', 'Polygon not possible', Polygon with (3) edges and (30) circum radius, Polygon with (4) edges and (30) circum radius, Polygon with (5) edges and (30) circum radius, Polygon with (6) edges and (30) circum radius, Polygon with (7) edges and (30) circum radius, Polygon with (8) edges and (30) circum radius, Polygon with (9) edges and (30) circum radius, Polygon with (10) edges and (30) circum radius]\n"
     ]
    }
   ],
   "source": [
    "test_session10.test_sequencepolygonlist()"
   ]
  },
  {
   "cell_type": "code",
   "execution_count": 11,
   "id": "5a50a4c8",
   "metadata": {},
   "outputs": [
    {
     "name": "stdout",
     "output_type": "stream",
     "text": [
      "Efficent polygon vertice for (10,30) ->  10\n"
     ]
    }
   ],
   "source": [
    "test_session10.test_sequencepolygonefficiency()"
   ]
  },
  {
   "cell_type": "code",
   "execution_count": 12,
   "id": "f5cb1835",
   "metadata": {},
   "outputs": [
    {
     "name": "stdout",
     "output_type": "stream",
     "text": [
      "custom_polygon_sequence.CustomPolygon(10, 30)   ->  10\n",
      "Length function is working properly\n"
     ]
    }
   ],
   "source": [
    "test_session10.test_sequencepolygonlength()"
   ]
  },
  {
   "cell_type": "code",
   "execution_count": 13,
   "id": "c794df03",
   "metadata": {},
   "outputs": [
    {
     "name": "stdout",
     "output_type": "stream",
     "text": [
      "Polygon representation ->  Polygon Sequence from 3 to max {15} edges each with {400} circum radius\n"
     ]
    }
   ],
   "source": [
    "test_session10.test_sequencepolygonrepresentation()"
   ]
  },
  {
   "cell_type": "code",
   "execution_count": 14,
   "id": "913c788a",
   "metadata": {},
   "outputs": [
    {
     "name": "stdout",
     "output_type": "stream",
     "text": [
      "__getitem__ is working properly\n"
     ]
    }
   ],
   "source": [
    "test_session10.test_sequencepolygongetitem()"
   ]
  },
  {
   "cell_type": "code",
   "execution_count": 15,
   "id": "d6939895",
   "metadata": {},
   "outputs": [
    {
     "name": "stdout",
     "output_type": "stream",
     "text": [
      "Type error is raised from wrong inputs\n"
     ]
    }
   ],
   "source": [
    "test_session10.test_sequencepolygoninput()"
   ]
  },
  {
   "cell_type": "markdown",
   "id": "550a0297",
   "metadata": {},
   "source": [
    "### Read me 2 tests"
   ]
  },
  {
   "cell_type": "code",
   "execution_count": 17,
   "id": "790ff128",
   "metadata": {},
   "outputs": [
    {
     "name": "stdout",
     "output_type": "stream",
     "text": [
      "Readme file exists\n"
     ]
    }
   ],
   "source": [
    "test_session10.test_readmeexists()"
   ]
  },
  {
   "cell_type": "code",
   "execution_count": 18,
   "id": "ad92f2e1",
   "metadata": {},
   "outputs": [
    {
     "name": "stdout",
     "output_type": "stream",
     "text": [
      "Readme file contains proper description\n"
     ]
    }
   ],
   "source": [
    "test_session10.test_readmeproperdescription()"
   ]
  }
 ],
 "metadata": {
  "kernelspec": {
   "display_name": "Python 3 (ipykernel)",
   "language": "python",
   "name": "python3"
  },
  "language_info": {
   "codemirror_mode": {
    "name": "ipython",
    "version": 3
   },
   "file_extension": ".py",
   "mimetype": "text/x-python",
   "name": "python",
   "nbconvert_exporter": "python",
   "pygments_lexer": "ipython3",
   "version": "3.8.10"
  }
 },
 "nbformat": 4,
 "nbformat_minor": 5
}
